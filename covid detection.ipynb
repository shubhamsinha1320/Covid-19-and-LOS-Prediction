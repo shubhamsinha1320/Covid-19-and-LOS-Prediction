{
 "cells": [
  {
   "cell_type": "code",
   "execution_count": 1,
   "metadata": {},
   "outputs": [],
   "source": [
    "import tensorflow as tf\n",
    "from tensorflow.keras.preprocessing.image import ImageDataGenerator\n",
    "from tensorflow.keras.layers import Conv2D,MaxPooling2D,Dense,Dropout,Flatten\n",
    "from tensorflow.keras.preprocessing import image\n",
    "from tensorflow.keras.models import load_model"
   ]
  },
  {
   "cell_type": "code",
   "execution_count": 2,
   "metadata": {},
   "outputs": [
    {
     "name": "stdout",
     "output_type": "stream",
     "text": [
      "Found 186 images belonging to 2 classes.\n",
      "Found 92 images belonging to 2 classes.\n"
     ]
    }
   ],
   "source": [
    "model=tf.keras.models.Sequential()\n",
    "\n",
    "model.add(Conv2D(32,kernel_size=(3,3),activation=\"relu\",input_shape=(224,224,3)))\n",
    "model.add(Conv2D(32,(3,3),activation=\"relu\"))\n",
    "model.add(MaxPooling2D())\n",
    "\n",
    "model.add(Conv2D(64,(3,3),activation=\"relu\"))\n",
    "model.add(MaxPooling2D())\n",
    "\n",
    "model.add(Conv2D(128,(3,3),activation=\"relu\"))\n",
    "model.add(MaxPooling2D())\n",
    "\n",
    "model.add(Flatten())\n",
    "model.add(Dense(512,activation=\"relu\"))\n",
    "model.add(Dropout(0.4))\n",
    "model.add(Dense(1,activation=\"sigmoid\"))\n",
    "\n",
    "model.compile(loss=tf.keras.losses.binary_crossentropy,optimizer = \"adam\",metrics=[\"accuracy\"])\n",
    "\n",
    "train_datagen=ImageDataGenerator(rescale=1./255,\n",
    "                                shear_range=0.2,\n",
    "                                zoom_range=0.2,\n",
    "                                horizontal_flip=True)\n",
    "\n",
    "training_set=train_datagen.flow_from_directory('dataset/train',\n",
    "                                              target_size=(224,224),\n",
    "                                              batch_size=32,\n",
    "                                              class_mode='binary')\n",
    "\n",
    "test_datagen=ImageDataGenerator(rescale=1./255)\n",
    "\n",
    "testing_set=test_datagen.flow_from_directory( 'dataset/test',\n",
    "                                             target_size = (224, 224),\n",
    "                                             batch_size = 32,\n",
    "                                             class_mode = 'binary'\n",
    "                                            )\n",
    "\n"
   ]
  },
  {
   "cell_type": "code",
   "execution_count": 3,
   "metadata": {},
   "outputs": [
    {
     "name": "stdout",
     "output_type": "stream",
     "text": [
      "WARNING:tensorflow:sample_weight modes were coerced from\n",
      "  ...\n",
      "    to  \n",
      "  ['...']\n",
      "WARNING:tensorflow:sample_weight modes were coerced from\n",
      "  ...\n",
      "    to  \n",
      "  ['...']\n",
      "Train for 6 steps, validate for 3 steps\n",
      "Epoch 1/10\n",
      "6/6 [==============================] - 24s 4s/step - loss: 0.9485 - accuracy: 0.5645 - val_loss: 0.7867 - val_accuracy: 0.2609\n",
      "Epoch 2/10\n",
      "6/6 [==============================] - 20s 3s/step - loss: 0.5217 - accuracy: 0.7688 - val_loss: 0.2532 - val_accuracy: 0.8043\n",
      "Epoch 3/10\n",
      "6/6 [==============================] - 20s 3s/step - loss: 0.3301 - accuracy: 0.8656 - val_loss: 0.0924 - val_accuracy: 0.9674\n",
      "Epoch 4/10\n",
      "6/6 [==============================] - 20s 3s/step - loss: 0.4445 - accuracy: 0.8817 - val_loss: 0.0981 - val_accuracy: 0.9565\n",
      "Epoch 5/10\n",
      "6/6 [==============================] - 20s 3s/step - loss: 0.5352 - accuracy: 0.8495 - val_loss: 0.1166 - val_accuracy: 0.9783\n",
      "Epoch 6/10\n",
      "6/6 [==============================] - 20s 3s/step - loss: 0.3755 - accuracy: 0.8495 - val_loss: 0.3570 - val_accuracy: 0.8587\n",
      "Epoch 7/10\n",
      "6/6 [==============================] - 20s 3s/step - loss: 0.3549 - accuracy: 0.8602 - val_loss: 0.1216 - val_accuracy: 0.9565\n",
      "Epoch 8/10\n",
      "6/6 [==============================] - 20s 3s/step - loss: 0.2675 - accuracy: 0.9032 - val_loss: 0.0849 - val_accuracy: 0.9674\n",
      "Epoch 9/10\n",
      "6/6 [==============================] - 20s 3s/step - loss: 0.2313 - accuracy: 0.9032 - val_loss: 0.0578 - val_accuracy: 0.9891\n",
      "Epoch 10/10\n",
      "6/6 [==============================] - 20s 3s/step - loss: 0.1961 - accuracy: 0.9140 - val_loss: 0.1060 - val_accuracy: 0.9783\n"
     ]
    }
   ],
   "source": [
    "history=model.fit(training_set,validation_data = testing_set, epochs = 10)\n",
    "model.save('covid.h5')"
   ]
  }
 ],
 "metadata": {
  "kernelspec": {
   "display_name": "Python 3",
   "language": "python",
   "name": "python3"
  },
  "language_info": {
   "codemirror_mode": {
    "name": "ipython",
    "version": 3
   },
   "file_extension": ".py",
   "mimetype": "text/x-python",
   "name": "python",
   "nbconvert_exporter": "python",
   "pygments_lexer": "ipython3",
   "version": "3.7.7"
  }
 },
 "nbformat": 4,
 "nbformat_minor": 4
}
